{
 "cells": [
  {
   "cell_type": "code",
   "execution_count": 1,
   "metadata": {},
   "outputs": [],
   "source": [
    "import numpy as np\n",
    "import pandas as pd\n",
    "import matplotlib.pyplot as plt\n",
    "import seaborn as sns\n",
    "\n",
    "import os\n",
    "from PIL import Image\n",
    "\n",
    "from sklearn.model_selection import train_test_split\n",
    "from sklearn.preprocessing import MinMaxScaler, StandardScaler\n",
    "from sklearn.ensemble import RandomForestClassifier, GradientBoostingClassifier\n",
    "from sklearn.metrics import classification_report, confusion_matrix, accuracy_score, roc_curve, roc_auc_score\n",
    "from sklearn.multiclass import OneVsRestClassifier\n",
    "\n",
    "import tensorflow as tf\n",
    "from keras.utils import to_categorical\n",
    "from tensorflow.keras.models import Sequential\n",
    "from tensorflow.keras.layers import Lambda, Flatten, Dense, Dropout\n",
    "from tensorflow.keras.optimizers import RMSprop, Adam\n",
    "\n",
    "import torch\n",
    "import torch.nn as nn\n",
    "import torch.nn.functional as F\n",
    "\n",
    "\n",
    "import warnings\n",
    "warnings.filterwarnings(\"ignore\")"
   ]
  },
  {
   "cell_type": "markdown",
   "metadata": {},
   "source": [
    "# Loading Dataset"
   ]
  },
  {
   "cell_type": "code",
   "execution_count": 2,
   "metadata": {},
   "outputs": [
    {
     "data": {
      "text/html": [
       "<div>\n",
       "<style scoped>\n",
       "    .dataframe tbody tr th:only-of-type {\n",
       "        vertical-align: middle;\n",
       "    }\n",
       "\n",
       "    .dataframe tbody tr th {\n",
       "        vertical-align: top;\n",
       "    }\n",
       "\n",
       "    .dataframe thead th {\n",
       "        text-align: right;\n",
       "    }\n",
       "</style>\n",
       "<table border=\"1\" class=\"dataframe\">\n",
       "  <thead>\n",
       "    <tr style=\"text-align: right;\">\n",
       "      <th></th>\n",
       "      <th>label</th>\n",
       "      <th>pixel0</th>\n",
       "      <th>pixel1</th>\n",
       "      <th>pixel2</th>\n",
       "      <th>pixel3</th>\n",
       "      <th>pixel4</th>\n",
       "      <th>pixel5</th>\n",
       "      <th>pixel6</th>\n",
       "      <th>pixel7</th>\n",
       "      <th>pixel8</th>\n",
       "      <th>...</th>\n",
       "      <th>pixel774</th>\n",
       "      <th>pixel775</th>\n",
       "      <th>pixel776</th>\n",
       "      <th>pixel777</th>\n",
       "      <th>pixel778</th>\n",
       "      <th>pixel779</th>\n",
       "      <th>pixel780</th>\n",
       "      <th>pixel781</th>\n",
       "      <th>pixel782</th>\n",
       "      <th>pixel783</th>\n",
       "    </tr>\n",
       "  </thead>\n",
       "  <tbody>\n",
       "    <tr>\n",
       "      <th>0</th>\n",
       "      <td>0</td>\n",
       "      <td>0</td>\n",
       "      <td>0</td>\n",
       "      <td>0</td>\n",
       "      <td>0</td>\n",
       "      <td>0</td>\n",
       "      <td>0</td>\n",
       "      <td>0</td>\n",
       "      <td>0</td>\n",
       "      <td>0</td>\n",
       "      <td>...</td>\n",
       "      <td>0</td>\n",
       "      <td>0</td>\n",
       "      <td>0</td>\n",
       "      <td>0</td>\n",
       "      <td>0</td>\n",
       "      <td>0</td>\n",
       "      <td>0</td>\n",
       "      <td>0</td>\n",
       "      <td>0</td>\n",
       "      <td>0</td>\n",
       "    </tr>\n",
       "    <tr>\n",
       "      <th>1</th>\n",
       "      <td>1</td>\n",
       "      <td>0</td>\n",
       "      <td>0</td>\n",
       "      <td>0</td>\n",
       "      <td>0</td>\n",
       "      <td>0</td>\n",
       "      <td>0</td>\n",
       "      <td>0</td>\n",
       "      <td>0</td>\n",
       "      <td>0</td>\n",
       "      <td>...</td>\n",
       "      <td>0</td>\n",
       "      <td>0</td>\n",
       "      <td>0</td>\n",
       "      <td>0</td>\n",
       "      <td>0</td>\n",
       "      <td>0</td>\n",
       "      <td>0</td>\n",
       "      <td>0</td>\n",
       "      <td>0</td>\n",
       "      <td>0</td>\n",
       "    </tr>\n",
       "    <tr>\n",
       "      <th>2</th>\n",
       "      <td>2</td>\n",
       "      <td>0</td>\n",
       "      <td>0</td>\n",
       "      <td>0</td>\n",
       "      <td>0</td>\n",
       "      <td>0</td>\n",
       "      <td>0</td>\n",
       "      <td>0</td>\n",
       "      <td>0</td>\n",
       "      <td>0</td>\n",
       "      <td>...</td>\n",
       "      <td>0</td>\n",
       "      <td>0</td>\n",
       "      <td>0</td>\n",
       "      <td>0</td>\n",
       "      <td>0</td>\n",
       "      <td>0</td>\n",
       "      <td>0</td>\n",
       "      <td>0</td>\n",
       "      <td>0</td>\n",
       "      <td>0</td>\n",
       "    </tr>\n",
       "  </tbody>\n",
       "</table>\n",
       "<p>3 rows × 785 columns</p>\n",
       "</div>"
      ],
      "text/plain": [
       "   label  pixel0  pixel1  pixel2  pixel3  pixel4  pixel5  pixel6  pixel7  \\\n",
       "0      0       0       0       0       0       0       0       0       0   \n",
       "1      1       0       0       0       0       0       0       0       0   \n",
       "2      2       0       0       0       0       0       0       0       0   \n",
       "\n",
       "   pixel8  ...  pixel774  pixel775  pixel776  pixel777  pixel778  pixel779  \\\n",
       "0       0  ...         0         0         0         0         0         0   \n",
       "1       0  ...         0         0         0         0         0         0   \n",
       "2       0  ...         0         0         0         0         0         0   \n",
       "\n",
       "   pixel780  pixel781  pixel782  pixel783  \n",
       "0         0         0         0         0  \n",
       "1         0         0         0         0  \n",
       "2         0         0         0         0  \n",
       "\n",
       "[3 rows x 785 columns]"
      ]
     },
     "execution_count": 2,
     "metadata": {},
     "output_type": "execute_result"
    }
   ],
   "source": [
    "train = pd.read_csv(\"/home/hasan/Data Set/Kannada-MNIST/train.csv\")\n",
    "test = pd.read_csv(\"/home/hasan/Data Set/Kannada-MNIST/test.csv\")\n",
    "train.head(3)"
   ]
  },
  {
   "cell_type": "code",
   "execution_count": 4,
   "metadata": {},
   "outputs": [
    {
     "data": {
      "text/html": [
       "<div>\n",
       "<style scoped>\n",
       "    .dataframe tbody tr th:only-of-type {\n",
       "        vertical-align: middle;\n",
       "    }\n",
       "\n",
       "    .dataframe tbody tr th {\n",
       "        vertical-align: top;\n",
       "    }\n",
       "\n",
       "    .dataframe thead th {\n",
       "        text-align: right;\n",
       "    }\n",
       "</style>\n",
       "<table border=\"1\" class=\"dataframe\">\n",
       "  <thead>\n",
       "    <tr style=\"text-align: right;\">\n",
       "      <th></th>\n",
       "      <th>id</th>\n",
       "      <th>pixel0</th>\n",
       "      <th>pixel1</th>\n",
       "      <th>pixel2</th>\n",
       "      <th>pixel3</th>\n",
       "      <th>pixel4</th>\n",
       "      <th>pixel5</th>\n",
       "      <th>pixel6</th>\n",
       "      <th>pixel7</th>\n",
       "      <th>pixel8</th>\n",
       "      <th>...</th>\n",
       "      <th>pixel774</th>\n",
       "      <th>pixel775</th>\n",
       "      <th>pixel776</th>\n",
       "      <th>pixel777</th>\n",
       "      <th>pixel778</th>\n",
       "      <th>pixel779</th>\n",
       "      <th>pixel780</th>\n",
       "      <th>pixel781</th>\n",
       "      <th>pixel782</th>\n",
       "      <th>pixel783</th>\n",
       "    </tr>\n",
       "  </thead>\n",
       "  <tbody>\n",
       "    <tr>\n",
       "      <th>0</th>\n",
       "      <td>0</td>\n",
       "      <td>0</td>\n",
       "      <td>0</td>\n",
       "      <td>0</td>\n",
       "      <td>0</td>\n",
       "      <td>0</td>\n",
       "      <td>0</td>\n",
       "      <td>0</td>\n",
       "      <td>0</td>\n",
       "      <td>0</td>\n",
       "      <td>...</td>\n",
       "      <td>0</td>\n",
       "      <td>0</td>\n",
       "      <td>0</td>\n",
       "      <td>0</td>\n",
       "      <td>0</td>\n",
       "      <td>0</td>\n",
       "      <td>0</td>\n",
       "      <td>0</td>\n",
       "      <td>0</td>\n",
       "      <td>0</td>\n",
       "    </tr>\n",
       "    <tr>\n",
       "      <th>1</th>\n",
       "      <td>1</td>\n",
       "      <td>0</td>\n",
       "      <td>0</td>\n",
       "      <td>0</td>\n",
       "      <td>0</td>\n",
       "      <td>0</td>\n",
       "      <td>0</td>\n",
       "      <td>0</td>\n",
       "      <td>0</td>\n",
       "      <td>0</td>\n",
       "      <td>...</td>\n",
       "      <td>0</td>\n",
       "      <td>0</td>\n",
       "      <td>0</td>\n",
       "      <td>0</td>\n",
       "      <td>0</td>\n",
       "      <td>0</td>\n",
       "      <td>0</td>\n",
       "      <td>0</td>\n",
       "      <td>0</td>\n",
       "      <td>0</td>\n",
       "    </tr>\n",
       "    <tr>\n",
       "      <th>2</th>\n",
       "      <td>2</td>\n",
       "      <td>0</td>\n",
       "      <td>0</td>\n",
       "      <td>0</td>\n",
       "      <td>0</td>\n",
       "      <td>0</td>\n",
       "      <td>0</td>\n",
       "      <td>0</td>\n",
       "      <td>0</td>\n",
       "      <td>0</td>\n",
       "      <td>...</td>\n",
       "      <td>0</td>\n",
       "      <td>0</td>\n",
       "      <td>0</td>\n",
       "      <td>0</td>\n",
       "      <td>0</td>\n",
       "      <td>0</td>\n",
       "      <td>0</td>\n",
       "      <td>0</td>\n",
       "      <td>0</td>\n",
       "      <td>0</td>\n",
       "    </tr>\n",
       "  </tbody>\n",
       "</table>\n",
       "<p>3 rows × 785 columns</p>\n",
       "</div>"
      ],
      "text/plain": [
       "   id  pixel0  pixel1  pixel2  pixel3  pixel4  pixel5  pixel6  pixel7  pixel8  \\\n",
       "0   0       0       0       0       0       0       0       0       0       0   \n",
       "1   1       0       0       0       0       0       0       0       0       0   \n",
       "2   2       0       0       0       0       0       0       0       0       0   \n",
       "\n",
       "   ...  pixel774  pixel775  pixel776  pixel777  pixel778  pixel779  pixel780  \\\n",
       "0  ...         0         0         0         0         0         0         0   \n",
       "1  ...         0         0         0         0         0         0         0   \n",
       "2  ...         0         0         0         0         0         0         0   \n",
       "\n",
       "   pixel781  pixel782  pixel783  \n",
       "0         0         0         0  \n",
       "1         0         0         0  \n",
       "2         0         0         0  \n",
       "\n",
       "[3 rows x 785 columns]"
      ]
     },
     "execution_count": 4,
     "metadata": {},
     "output_type": "execute_result"
    }
   ],
   "source": [
    "test.head(3)"
   ]
  },
  {
   "cell_type": "markdown",
   "metadata": {},
   "source": [
    "# Feature and Label data"
   ]
  },
  {
   "cell_type": "code",
   "execution_count": 5,
   "metadata": {},
   "outputs": [],
   "source": [
    "X = train.drop('label', axis=1)\n",
    "test = test\n",
    "y = train.label"
   ]
  },
  {
   "cell_type": "markdown",
   "metadata": {},
   "source": [
    "# Data Normalize and Standardize"
   ]
  },
  {
   "cell_type": "code",
   "execution_count": 6,
   "metadata": {},
   "outputs": [],
   "source": [
    "x_train, x_test, y_train, y_test = train_test_split(X,y, test_size=.3, random_state=42, stratify=y)"
   ]
  },
  {
   "cell_type": "code",
   "execution_count": 7,
   "metadata": {},
   "outputs": [],
   "source": [
    "# Data Normalize\n",
    "scaler = MinMaxScaler()\n",
    "normalized_xtrain = scaler.fit_transform(x_train)\n",
    "normalized_xtest = scaler.fit_transform(x_test)\n",
    "\n",
    "\n",
    "# Data Standardize\n",
    "std = StandardScaler()\n",
    "standardized_xtrain = scaler.fit_transform(normalized_xtrain)\n",
    "standardized_xtest = scaler.fit_transform(normalized_xtest)\n"
   ]
  },
  {
   "cell_type": "markdown",
   "metadata": {},
   "source": [
    "# Using Machine Learning Algorithms"
   ]
  },
  {
   "cell_type": "markdown",
   "metadata": {},
   "source": [
    "### Random Forst Classifier"
   ]
  },
  {
   "cell_type": "code",
   "execution_count": 8,
   "metadata": {},
   "outputs": [
    {
     "data": {
      "text/plain": [
       "RandomForestClassifier()"
      ]
     },
     "execution_count": 8,
     "metadata": {},
     "output_type": "execute_result"
    }
   ],
   "source": [
    "rfc = RandomForestClassifier() \n",
    "rfc.fit(standardized_xtrain, y_train) "
   ]
  },
  {
   "cell_type": "code",
   "execution_count": 9,
   "metadata": {},
   "outputs": [],
   "source": [
    "# Predicting with test data\n",
    "rfc_predicted = rfc.predict(standardized_xtest)"
   ]
  },
  {
   "cell_type": "code",
   "execution_count": 10,
   "metadata": {},
   "outputs": [
    {
     "name": "stdout",
     "output_type": "stream",
     "text": [
      "              precision    recall  f1-score   support\n",
      "\n",
      "           0       0.98      0.97      0.97      1800\n",
      "           1       0.97      0.99      0.98      1800\n",
      "           2       1.00      0.99      0.99      1800\n",
      "           3       0.96      0.97      0.97      1800\n",
      "           4       0.97      0.99      0.98      1800\n",
      "           5       0.98      0.99      0.99      1800\n",
      "           6       0.96      0.98      0.97      1800\n",
      "           7       0.98      0.95      0.96      1800\n",
      "           8       0.99      0.99      0.99      1800\n",
      "           9       1.00      0.97      0.98      1800\n",
      "\n",
      "    accuracy                           0.98     18000\n",
      "   macro avg       0.98      0.98      0.98     18000\n",
      "weighted avg       0.98      0.98      0.98     18000\n",
      "\n"
     ]
    }
   ],
   "source": [
    "# Classification Report\n",
    "print(classification_report(y_test, rfc_predicted))"
   ]
  },
  {
   "cell_type": "code",
   "execution_count": 13,
   "metadata": {},
   "outputs": [
    {
     "data": {
      "image/png": "[encoded data removed]",
      "text/plain": [
       "<Figure size 504x504 with 2 Axes>"
      ]
     },
     "metadata": {
      "needs_background": "light"
     },
     "output_type": "display_data"
    }
   ],
   "source": [
    "# Confusion Matrix\n",
    "cm = confusion_matrix(y_test, rfc_predicted)\n",
    "plt.figure(figsize=(7,7))\n",
    "sns.heatmap(cm, fmt='.0f', annot=True, linewidths=0.2, linecolor='purple')\n",
    "plt.xlabel('predicted value')\n",
    "plt.ylabel('Truth value')\n",
    "plt.show()"
   ]
  },
  {
   "cell_type": "markdown",
   "metadata": {},
   "source": [
    "### Using Gradient Boosting Classifier"
   ]
  },
  {
   "cell_type": "code",
   "execution_count": 14,
   "metadata": {},
   "outputs": [
    {
     "data": {
      "text/plain": [
       "GradientBoostingClassifier()"
      ]
     },
     "execution_count": 14,
     "metadata": {},
     "output_type": "execute_result"
    }
   ],
   "source": [
    "gbc = GradientBoostingClassifier()\n",
    "gbc.fit(standardized_xtrain, y_train)"
   ]
  },
  {
   "cell_type": "code",
   "execution_count": 15,
   "metadata": {},
   "outputs": [
    {
     "data": {
      "text/plain": [
       "0.9645238095238096"
      ]
     },
     "execution_count": 15,
     "metadata": {},
     "output_type": "execute_result"
    }
   ],
   "source": [
    "gbc_train_score = gbc.score(x_train, y_train)\n",
    "gbc_train_score"
   ]
  },
  {
   "cell_type": "code",
   "execution_count": 16,
   "metadata": {},
   "outputs": [],
   "source": [
    "gbc_predicted = gbc.predict(x_test)"
   ]
  },
  {
   "cell_type": "code",
   "execution_count": 17,
   "metadata": {},
   "outputs": [
    {
     "name": "stdout",
     "output_type": "stream",
     "text": [
      "              precision    recall  f1-score   support\n",
      "\n",
      "           0       0.93      0.97      0.95      1800\n",
      "           1       0.98      0.96      0.97      1800\n",
      "           2       0.99      0.99      0.99      1800\n",
      "           3       0.90      0.97      0.93      1800\n",
      "           4       0.96      0.97      0.96      1800\n",
      "           5       0.96      0.97      0.97      1800\n",
      "           6       0.95      0.96      0.95      1800\n",
      "           7       0.95      0.88      0.92      1800\n",
      "           8       0.99      0.96      0.97      1800\n",
      "           9       0.99      0.95      0.97      1800\n",
      "\n",
      "    accuracy                           0.96     18000\n",
      "   macro avg       0.96      0.96      0.96     18000\n",
      "weighted avg       0.96      0.96      0.96     18000\n",
      "\n"
     ]
    }
   ],
   "source": [
    "print(classification_report(y_test, gbc_predicted))"
   ]
  },
  {
   "cell_type": "code",
   "execution_count": 18,
   "metadata": {},
   "outputs": [
    {
     "data": {
      "image/png": "[encoded data removed]",
      "text/plain": [
       "<Figure size 504x504 with 2 Axes>"
      ]
     },
     "metadata": {
      "needs_background": "light"
     },
     "output_type": "display_data"
    }
   ],
   "source": [
    "cm = confusion_matrix(y_test, gbc_predicted)\n",
    "plt.figure(figsize=(7,7))\n",
    "sns.heatmap(cm, fmt='.0f', annot=True, linewidths=0.2, linecolor='purple')\n",
    "plt.xlabel('predicted value')\n",
    "plt.ylabel('Truth value')\n",
    "plt.show()"
   ]
  },
  {
   "cell_type": "markdown",
   "metadata": {},
   "source": [
    "## AUC-ROC for Multi-Class Classification"
   ]
  },
  {
   "cell_type": "code",
   "execution_count": 19,
   "metadata": {},
   "outputs": [
    {
     "data": {
      "text/plain": [
       "OneVsRestClassifier(estimator=RandomForestClassifier())"
      ]
     },
     "execution_count": 19,
     "metadata": {},
     "output_type": "execute_result"
    }
   ],
   "source": [
    "mc_rfc = OneVsRestClassifier(RandomForestClassifier())\n",
    "mc_rfc.fit(standardized_xtrain, y_train)"
   ]
  },
  {
   "cell_type": "code",
   "execution_count": 20,
   "metadata": {},
   "outputs": [],
   "source": [
    "mc_rfc_predicted = mc_rfc.predict(x_test)\n",
    "mc_rfc_predicted_prob = mc_rfc.predict_proba(x_test)"
   ]
  },
  {
   "cell_type": "code",
   "execution_count": 21,
   "metadata": {},
   "outputs": [],
   "source": [
    "fpr = {}\n",
    "tpr = {}\n",
    "thresh = {}\n",
    "n_class = 10\n",
    "\n",
    "for i in range(n_class):\n",
    "    fpr[i], tpr[i], thresh[i] = roc_curve(y_test, mc_rfc_predicted_prob[:,i], pos_label=i)\n"
   ]
  },
  {
   "cell_type": "code",
   "execution_count": 22,
   "metadata": {},
   "outputs": [
    {
     "data": {
      "image/png": "[encoded data removed]",
      "text/plain": [
       "<Figure size 432x288 with 1 Axes>"
      ]
     },
     "metadata": {
      "needs_background": "light"
     },
     "output_type": "display_data"
    }
   ],
   "source": [
    "plt.plot(fpr[0], tpr[0], linestyle='--', color='orange', label='Class 0 vs Rest')\n",
    "plt.plot(fpr[1], tpr[1], linestyle='--', color='green', label='Class 1 vs Rest')\n",
    "plt.plot(fpr[2], tpr[2], linestyle='--', color='blue', label='Class 2 vs Rest')\n",
    "plt.plot(fpr[3], tpr[3], linestyle='--', color='red', label='Class 3 vs Rest')\n",
    "plt.plot(fpr[4], tpr[4], linestyle='--', color='yellow', label='Class 4 vs Rest')\n",
    "plt.plot(fpr[5], tpr[5], linestyle='--', color='black', label='Class 5 vs Rest')\n",
    "plt.plot(fpr[6], tpr[6], linestyle='--', color='purple', label='Class 6 vs Rest')\n",
    "plt.plot(fpr[7], tpr[7], linestyle='--', color='brown', label='Class 7 vs Rest')\n",
    "plt.plot(fpr[8], tpr[8], linestyle='--', color='olive', label='Class 8 vs Rest')\n",
    "plt.plot(fpr[9], tpr[9], linestyle='--', color='cyan', label='Class 9 vs Rest')\n",
    "\n",
    "plt.title('Multiclass ROC curve')\n",
    "plt.xlabel('False Positive Rate')\n",
    "plt.ylabel('True Positive rate')\n",
    "plt.legend(loc='best')\n",
    "plt.savefig('Multiclass ROC', dpi=300)"
   ]
  },
  {
   "cell_type": "code",
   "execution_count": null,
   "metadata": {},
   "outputs": [],
   "source": []
  },
  {
   "cell_type": "markdown",
   "metadata": {},
   "source": [
    "# Using Linear Model"
   ]
  },
  {
   "cell_type": "code",
   "execution_count": 3,
   "metadata": {},
   "outputs": [],
   "source": [
    "X = train.drop('label', axis=1).values\n",
    "y = train['label'].values"
   ]
  },
  {
   "cell_type": "code",
   "execution_count": 4,
   "metadata": {},
   "outputs": [
    {
     "name": "stdout",
     "output_type": "stream",
     "text": [
      "Shape of X is :(60000, 28, 28, 1) Shape of y is :(60000, 10)\n"
     ]
    }
   ],
   "source": [
    "X = X.reshape(X.shape[0], 28, 28, 1)\n",
    "y = to_categorical(y, 10) \n",
    "print(\"Shape of X is :{} Shape of y is :{}\".format(X.shape, y.shape))"
   ]
  },
  {
   "cell_type": "code",
   "execution_count": 5,
   "metadata": {},
   "outputs": [],
   "source": [
    "mean = X.mean()\n",
    "std = X.std()\n",
    "\n",
    "def standardize(x):\n",
    "    return (x-mean)/std\n"
   ]
  },
  {
   "cell_type": "code",
   "execution_count": 6,
   "metadata": {},
   "outputs": [
    {
     "name": "stdout",
     "output_type": "stream",
     "text": [
      "(48000, 28, 28, 1) (12000, 28, 28, 1) (48000, 10) (12000, 10)\n"
     ]
    }
   ],
   "source": [
    "x_train, x_test, y_train, y_test = train_test_split(X,y, test_size=0.2, random_state=42, stratify=y)\n",
    "print(x_train.shape, x_test.shape, y_train.shape, y_test.shape)"
   ]
  },
  {
   "cell_type": "code",
   "execution_count": 7,
   "metadata": {},
   "outputs": [],
   "source": [
    "model1 = Sequential()\n",
    "model1.add(Lambda(standardize, input_shape=(28, 28, 1)))\n",
    "model1.add(Dense(64, activation='relu', kernel_initializer=tf.random_uniform_initializer(minval=-0.1, maxval=0.1), bias_initializer=tf.random_uniform_initializer(minval=-0.1, maxval=0.1)))\n",
    "model1.add(Dropout(.2))\n",
    "model1.add(Dense(128, activation='relu', kernel_initializer=tf.random_uniform_initializer(minval=-0.1, maxval=0.1), bias_initializer=tf.random_uniform_initializer(minval=-0.1, maxval=0.1)))\n",
    "model1.add(Flatten())\n",
    "model1.add(Dense(10, activation='sigmoid'))"
   ]
  },
  {
   "cell_type": "code",
   "execution_count": 8,
   "metadata": {},
   "outputs": [
    {
     "name": "stdout",
     "output_type": "stream",
     "text": [
      "Model: \"sequential\"\n",
      "_________________________________________________________________\n",
      "Layer (type)                 Output Shape              Param #   \n",
      "=================================================================\n",
      "lambda (Lambda)              (None, 28, 28, 1)         0         \n",
      "_________________________________________________________________\n",
      "dense (Dense)                (None, 28, 28, 64)        128       \n",
      "_________________________________________________________________\n",
      "dropout (Dropout)            (None, 28, 28, 64)        0         \n",
      "_________________________________________________________________\n",
      "dense_1 (Dense)              (None, 28, 28, 128)       8320      \n",
      "_________________________________________________________________\n",
      "flatten (Flatten)            (None, 100352)            0         \n",
      "_________________________________________________________________\n",
      "dense_2 (Dense)              (None, 10)                1003530   \n",
      "=================================================================\n",
      "Total params: 1,011,978\n",
      "Trainable params: 1,011,978\n",
      "Non-trainable params: 0\n",
      "_________________________________________________________________\n"
     ]
    }
   ],
   "source": [
    "model1.summary()"
   ]
  },
  {
   "cell_type": "code",
   "execution_count": 9,
   "metadata": {},
   "outputs": [],
   "source": [
    "model1.compile(optimizer=RMSprop(lr=0.001),\n",
    "              loss='categorical_crossentropy',\n",
    "              metrics=['accuracy'])"
   ]
  },
  {
   "cell_type": "code",
   "execution_count": 10,
   "metadata": {},
   "outputs": [
    {
     "name": "stdout",
     "output_type": "stream",
     "text": [
      "Epoch 1/10\n",
      "30/30 - 90s - loss: 1.1188 - accuracy: 0.6604 - val_loss: 0.2516 - val_accuracy: 0.9209\n",
      "Epoch 2/10\n",
      "30/30 - 92s - loss: 0.1920 - accuracy: 0.9405 - val_loss: 0.1577 - val_accuracy: 0.9546\n",
      "Epoch 3/10\n",
      "30/30 - 88s - loss: 0.1414 - accuracy: 0.9583 - val_loss: 0.1229 - val_accuracy: 0.9657\n",
      "Epoch 4/10\n",
      "30/30 - 90s - loss: 0.1178 - accuracy: 0.9651 - val_loss: 0.1590 - val_accuracy: 0.9517\n",
      "Epoch 5/10\n",
      "30/30 - 94s - loss: 0.1098 - accuracy: 0.9660 - val_loss: 0.1232 - val_accuracy: 0.9643\n",
      "Epoch 6/10\n",
      "30/30 - 92s - loss: 0.1038 - accuracy: 0.9685 - val_loss: 0.1369 - val_accuracy: 0.9588\n",
      "Epoch 7/10\n",
      "30/30 - 91s - loss: 0.0999 - accuracy: 0.9694 - val_loss: 0.1222 - val_accuracy: 0.9651\n",
      "Epoch 8/10\n",
      "30/30 - 88s - loss: 0.0971 - accuracy: 0.9699 - val_loss: 0.1113 - val_accuracy: 0.9684\n",
      "Epoch 9/10\n",
      "30/30 - 90s - loss: 0.0889 - accuracy: 0.9722 - val_loss: 0.1149 - val_accuracy: 0.9683\n",
      "Epoch 10/10\n",
      "30/30 - 102s - loss: 0.0867 - accuracy: 0.9732 - val_loss: 0.1189 - val_accuracy: 0.9662\n"
     ]
    }
   ],
   "source": [
    "history = model1.fit(x_train, y_train, \n",
    "                    steps_per_epoch=30,\n",
    "                    epochs=10,\n",
    "                    validation_data = (x_test, y_test),  \n",
    "                    verbose=2)"
   ]
  },
  {
   "cell_type": "code",
   "execution_count": 11,
   "metadata": {},
   "outputs": [
    {
     "data": {
      "image/png": "[encoded data removed]",
      "text/plain": [
       "<Figure size 432x288 with 1 Axes>"
      ]
     },
     "metadata": {
      "needs_background": "light"
     },
     "output_type": "display_data"
    },
    {
     "data": {
      "image/png": "[encoded data removed]",
      "text/plain": [
       "<Figure size 432x288 with 1 Axes>"
      ]
     },
     "metadata": {
      "needs_background": "light"
     },
     "output_type": "display_data"
    }
   ],
   "source": [
    "accuracy = history.history['accuracy']\n",
    "val_accuracy = history.history['val_accuracy']\n",
    "\n",
    "loss = history.history['loss']\n",
    "val_loss = history.history['val_loss']\n",
    "\n",
    "epochs = range(len(val_accuracy))\n",
    "plt.plot(epochs, accuracy, 'go', label='Training accuracy')\n",
    "plt.plot(epochs, val_accuracy, 'b', label='Validation accuracy')\n",
    "plt.title('Training and validation accuracy')\n",
    "plt.legend()\n",
    "plt.figure()\n",
    "plt.plot(epochs, loss, 'go', label='Training loss')\n",
    "plt.plot(epochs, val_loss, 'b', label='validation loss')\n",
    "plt.title('training and validation loss')\n",
    "plt.legend()\n",
    "plt.show()"
   ]
  },
  {
   "cell_type": "code",
   "execution_count": 12,
   "metadata": {},
   "outputs": [
    {
     "name": "stdout",
     "output_type": "stream",
     "text": [
      "1500/1500 [==============================] - 22s 15ms/step - loss: 0.0733 - accuracy: 0.9770\n"
     ]
    },
    {
     "data": {
      "text/plain": [
       "[0.0732770562171936, 0.9769791960716248]"
      ]
     },
     "execution_count": 12,
     "metadata": {},
     "output_type": "execute_result"
    }
   ],
   "source": [
    "model1.evaluate(x_train, y_train)"
   ]
  },
  {
   "cell_type": "code",
   "execution_count": 13,
   "metadata": {},
   "outputs": [
    {
     "data": {
      "text/plain": [
       "0.15866666666666668"
      ]
     },
     "execution_count": 13,
     "metadata": {},
     "output_type": "execute_result"
    }
   ],
   "source": [
    "# Prediciting with test data\n",
    "predicted = model1.predict(x_test)\n",
    "accuracy_score(y_test, predicted.round())"
   ]
  },
  {
   "cell_type": "code",
   "execution_count": 14,
   "metadata": {},
   "outputs": [
    {
     "name": "stdout",
     "output_type": "stream",
     "text": [
      "              precision    recall  f1-score   support\n",
      "\n",
      "           0       0.00      0.00      0.00         0\n",
      "           1       0.33      0.99      0.49       395\n",
      "           2       0.57      1.00      0.73       689\n",
      "           3       0.00      1.00      0.00         3\n",
      "           4       0.23      1.00      0.38       280\n",
      "           5       0.07      1.00      0.13        81\n",
      "           6       0.01      1.00      0.02        13\n",
      "           7       0.08      0.96      0.15       100\n",
      "           8       0.06      1.00      0.12        74\n",
      "           9       0.23      1.00      0.37       275\n",
      "\n",
      "   micro avg       0.16      1.00      0.27      1910\n",
      "   macro avg       0.16      0.90      0.24      1910\n",
      "weighted avg       0.35      1.00      0.49      1910\n",
      " samples avg       0.16      0.16      0.16      1910\n",
      "\n"
     ]
    }
   ],
   "source": [
    "# classification report\n",
    "print(classification_report(predicted.round(), y_test))"
   ]
  },
  {
   "cell_type": "code",
   "execution_count": 15,
   "metadata": {},
   "outputs": [
    {
     "data": {
      "image/png": "[encoded data removed]",
      "text/plain": [
       "<Figure size 504x504 with 2 Axes>"
      ]
     },
     "metadata": {
      "needs_background": "light"
     },
     "output_type": "display_data"
    }
   ],
   "source": [
    "# confusion matrix\n",
    "cm = confusion_matrix(y_test.argmax(axis=1), predicted.argmax(axis=1))\n",
    "plt.figure(figsize=(7,7))\n",
    "sns.heatmap(cm, fmt='.0f', annot=True, linewidths=0.2, linecolor='purple')\n",
    "plt.xlabel('predicted value')\n",
    "plt.ylabel('Truth value')\n",
    "plt.show()"
   ]
  },
  {
   "cell_type": "code",
   "execution_count": null,
   "metadata": {},
   "outputs": [],
   "source": []
  },
  {
   "cell_type": "markdown",
   "metadata": {},
   "source": [
    "# Using PyTorch Linear Layer"
   ]
  },
  {
   "cell_type": "code",
   "execution_count": 10,
   "metadata": {},
   "outputs": [
    {
     "name": "stdout",
     "output_type": "stream",
     "text": [
      "Shape of X is :(60000, 784) Shape of y is :(60000,)\n"
     ]
    }
   ],
   "source": [
    "X = train.iloc[:, 1:].values\n",
    "y = train.iloc[:, 0].values\n",
    "print(\"Shape of X is :{} Shape of y is :{}\".format(X.shape, y.shape))"
   ]
  },
  {
   "cell_type": "code",
   "execution_count": 11,
   "metadata": {},
   "outputs": [
    {
     "name": "stdout",
     "output_type": "stream",
     "text": [
      "(42000, 784) (18000, 784) (42000,) (18000,)\n"
     ]
    }
   ],
   "source": [
    "x_train, x_test, y_train, y_test = train_test_split(X,y, test_size=.3, random_state=42, stratify=y)\n",
    "print(x_train.shape, x_test.shape, y_train.shape, y_test.shape)"
   ]
  },
  {
   "cell_type": "code",
   "execution_count": 12,
   "metadata": {},
   "outputs": [],
   "source": [
    "x_train = torch.FloatTensor(x_train)\n",
    "x_test = torch.FloatTensor(x_test)\n",
    "y_train = torch.LongTensor(y_train)\n",
    "y_test = torch.LongTensor(y_test)\n"
   ]
  },
  {
   "cell_type": "code",
   "execution_count": 13,
   "metadata": {},
   "outputs": [],
   "source": [
    "class Model(nn.Module):\n",
    "    def __init__(self, input_features=784, hidden_layer1=392, hidden_layer2=196, output_features=10):\n",
    "        super().__init__()\n",
    "        self.fc1 = nn.Linear(input_features,hidden_layer1)                  \n",
    "        self.fc2 = nn.Linear(hidden_layer1, hidden_layer2)                  \n",
    "        self.out = nn.Linear(hidden_layer2, output_features)      \n",
    "        \n",
    "    def forward(self, x):\n",
    "        x = F.relu(self.fc1(x))\n",
    "        x = F.relu(self.fc2(x))\n",
    "        x = self.out(x)\n",
    "        return x"
   ]
  },
  {
   "cell_type": "code",
   "execution_count": 14,
   "metadata": {},
   "outputs": [],
   "source": [
    "Model = Model()"
   ]
  },
  {
   "cell_type": "code",
   "execution_count": 15,
   "metadata": {},
   "outputs": [],
   "source": [
    "#optimizer = torch.optim.SGD(Model.parameters(), lr=0.01)\n",
    "optimizer = torch.optim.Adam(Model.parameters(), lr=0.001)\n",
    "#loss = nn.CrossEntropyLoss()\n",
    "criterion = nn.CrossEntropyLoss()\n"
   ]
  },
  {
   "cell_type": "code",
   "execution_count": 16,
   "metadata": {},
   "outputs": [
    {
     "name": "stdout",
     "output_type": "stream",
     "text": [
      "Epoch:  0  Train_loss: 10.35873985  Valid_loss:10.38581848 \n",
      "Epoch:  1  Train_loss: 8.83752155  Valid_loss:8.85624886 \n",
      "Epoch:  2  Train_loss: 5.87732744  Valid_loss:5.87817144 \n",
      "Epoch:  3  Train_loss: 5.15601778  Valid_loss:5.14671278 \n",
      "Epoch:  4  Train_loss: 3.91368294  Valid_loss:3.90156341 \n",
      "Epoch:  5  Train_loss: 2.48149228  Valid_loss:2.46873331 \n",
      "Epoch:  6  Train_loss: 1.45247006  Valid_loss:1.43491840 \n",
      "Epoch:  7  Train_loss: 0.92974257  Valid_loss:0.91035092 \n",
      "Epoch:  8  Train_loss: 0.76970118  Valid_loss:0.75386757 \n",
      "Epoch:  9  Train_loss: 0.76017684  Valid_loss:0.75560105 \n",
      "Epoch: 10  Train_loss: 0.76478755  Valid_loss:0.76738733 \n",
      "Epoch: 11  Train_loss: 0.68793297  Valid_loss:0.68816787 \n",
      "Epoch: 12  Train_loss: 0.55021018  Valid_loss:0.54386574 \n",
      "Epoch: 13  Train_loss: 0.43577012  Valid_loss:0.42388678 \n",
      "Epoch: 14  Train_loss: 0.38528883  Valid_loss:0.37282857 \n",
      "Epoch: 15  Train_loss: 0.36726454  Valid_loss:0.35588947 \n",
      "Epoch: 16  Train_loss: 0.34913763  Valid_loss:0.33757773 \n",
      "Epoch: 17  Train_loss: 0.32294422  Valid_loss:0.31066969 \n",
      "Epoch: 18  Train_loss: 0.29573041  Valid_loss:0.28236750 \n",
      "Epoch: 19  Train_loss: 0.27339679  Valid_loss:0.25833091 \n",
      "Epoch: 20  Train_loss: 0.25575417  Valid_loss:0.23892532 \n",
      "Epoch: 21  Train_loss: 0.24021193  Valid_loss:0.22213946 \n",
      "Epoch: 22  Train_loss: 0.22682922  Valid_loss:0.20789033 \n",
      "Epoch: 23  Train_loss: 0.21701662  Valid_loss:0.19742620 \n",
      "Epoch: 24  Train_loss: 0.21035433  Valid_loss:0.19051279 \n",
      "Epoch: 25  Train_loss: 0.20486763  Valid_loss:0.18537930 \n",
      "Epoch: 26  Train_loss: 0.19896168  Valid_loss:0.18029475 \n",
      "Epoch: 27  Train_loss: 0.19204289  Valid_loss:0.17444466 \n",
      "Epoch: 28  Train_loss: 0.18422969  Valid_loss:0.16768138 \n",
      "Epoch: 29  Train_loss: 0.17592302  Valid_loss:0.16023332 \n",
      "Epoch: 30  Train_loss: 0.16760854  Valid_loss:0.15256695 \n",
      "Epoch: 31  Train_loss: 0.15969639  Valid_loss:0.14506215 \n",
      "Epoch: 32  Train_loss: 0.15247948  Valid_loss:0.13801409 \n",
      "Epoch: 33  Train_loss: 0.14612788  Valid_loss:0.13159172 \n",
      "Epoch: 34  Train_loss: 0.14069115  Valid_loss:0.12590848 \n",
      "Epoch: 35  Train_loss: 0.13618617  Valid_loss:0.12100989 \n",
      "Epoch: 36  Train_loss: 0.13254310  Valid_loss:0.11693200 \n",
      "Epoch: 37  Train_loss: 0.12961559  Valid_loss:0.11360512 \n",
      "Epoch: 38  Train_loss: 0.12715742  Valid_loss:0.11080397 \n",
      "Epoch: 39  Train_loss: 0.12498973  Valid_loss:0.10833970 \n",
      "Epoch: 40  Train_loss: 0.12289474  Valid_loss:0.10600749 \n",
      "Epoch: 41  Train_loss: 0.12072203  Valid_loss:0.10362086 \n",
      "Epoch: 42  Train_loss: 0.11840180  Valid_loss:0.10106536 \n",
      "Epoch: 43  Train_loss: 0.11591028  Valid_loss:0.09830680 \n",
      "Epoch: 44  Train_loss: 0.11327768  Valid_loss:0.09539493 \n",
      "Epoch: 45  Train_loss: 0.11058091  Valid_loss:0.09241945 \n",
      "Epoch: 46  Train_loss: 0.10792313  Valid_loss:0.08948329 \n",
      "Epoch: 47  Train_loss: 0.10541338  Valid_loss:0.08669695 \n",
      "Epoch: 48  Train_loss: 0.10311875  Valid_loss:0.08413917 \n",
      "Epoch: 49  Train_loss: 0.10108565  Valid_loss:0.08184126 \n"
     ]
    }
   ],
   "source": [
    "epochs = 50\n",
    "train_losses = []\n",
    "valid_losses = []\n",
    "train_correct = []\n",
    "valid_correct = []\n",
    "\n",
    "for epoch in range(epochs):\n",
    "    out1 = Model.forward(x_train)\n",
    "    train_loss = criterion(out1, y_train)\n",
    "    train_losses.append(train_loss)\n",
    "    \n",
    "    out2 = Model.forward(x_test)\n",
    "    valid_loss = criterion(out2, y_test)\n",
    "    valid_losses.append(valid_loss)\n",
    "\n",
    "    optimizer.zero_grad()\n",
    "    train_loss.backward()\n",
    "    valid_loss.backward()\n",
    "    optimizer.step()\n",
    "    \n",
    "    print(f'Epoch: {epoch:2}  Train_loss: {train_loss.item():10.8f}  Valid_loss:{valid_loss.item():10.8f} ')\n"
   ]
  },
  {
   "cell_type": "code",
   "execution_count": 17,
   "metadata": {},
   "outputs": [
    {
     "data": {
      "text/plain": [
       "Text(0.5, 0, 'epoch')"
      ]
     },
     "execution_count": 17,
     "metadata": {},
     "output_type": "execute_result"
    },
    {
     "data": {
      "image/png": "[encoded data removed]",
      "text/plain": [
       "<Figure size 432x288 with 1 Axes>"
      ]
     },
     "metadata": {
      "needs_background": "light"
     },
     "output_type": "display_data"
    }
   ],
   "source": [
    "plt.plot(range(epochs), train_losses)\n",
    "plt.ylabel(\"Loss\")\n",
    "plt.xlabel(\"epoch\")\n",
    "\n",
    "plt.plot(range(epochs), valid_losses)\n",
    "plt.ylabel(\"Loss\")\n",
    "plt.xlabel(\"epoch\")"
   ]
  },
  {
   "cell_type": "code",
   "execution_count": 18,
   "metadata": {},
   "outputs": [],
   "source": [
    "predicted = Model(x_test)\n",
    "_, predict_y = torch.max(predicted, 1)"
   ]
  },
  {
   "cell_type": "code",
   "execution_count": 19,
   "metadata": {},
   "outputs": [
    {
     "name": "stdout",
     "output_type": "stream",
     "text": [
      "prediction accuracy : 0.9761666666666666\n"
     ]
    }
   ],
   "source": [
    "print('prediction accuracy :', accuracy_score(y_test.data, predict_y.data))"
   ]
  },
  {
   "cell_type": "code",
   "execution_count": 20,
   "metadata": {},
   "outputs": [
    {
     "name": "stdout",
     "output_type": "stream",
     "text": [
      "              precision    recall  f1-score   support\n",
      "\n",
      "           0       0.98      0.96      0.97      1800\n",
      "           1       0.96      0.99      0.98      1800\n",
      "           2       1.00      0.99      1.00      1800\n",
      "           3       0.97      0.97      0.97      1800\n",
      "           4       0.97      0.98      0.98      1800\n",
      "           5       0.98      0.98      0.98      1800\n",
      "           6       0.96      0.97      0.97      1800\n",
      "           7       0.96      0.96      0.96      1800\n",
      "           8       0.99      0.99      0.99      1800\n",
      "           9       0.99      0.97      0.98      1800\n",
      "\n",
      "    accuracy                           0.98     18000\n",
      "   macro avg       0.98      0.98      0.98     18000\n",
      "weighted avg       0.98      0.98      0.98     18000\n",
      "\n"
     ]
    }
   ],
   "source": [
    "# Classification Report\n",
    "print(classification_report(y_test.data, predict_y.data))"
   ]
  },
  {
   "cell_type": "code",
   "execution_count": 21,
   "metadata": {},
   "outputs": [
    {
     "data": {
      "image/png": "[encoded data removed]",
      "text/plain": [
       "<Figure size 504x504 with 2 Axes>"
      ]
     },
     "metadata": {
      "needs_background": "light"
     },
     "output_type": "display_data"
    }
   ],
   "source": [
    "# Confusion Matrix\n",
    "cm = confusion_matrix(y_test, predict_y.data)\n",
    "plt.figure(figsize=(7,7))\n",
    "sns.heatmap(cm, fmt='.0f', annot=True, linewidths=0.2, linecolor='purple')\n",
    "plt.xlabel('predicted value')\n",
    "plt.ylabel('Truth value')\n",
    "plt.show()"
   ]
  },
  {
   "cell_type": "code",
   "execution_count": null,
   "metadata": {},
   "outputs": [],
   "source": []
  }
 ],
 "metadata": {
  "kernelspec": {
   "display_name": "Python 3",
   "language": "python",
   "name": "python3"
  },
  "language_info": {
   "codemirror_mode": {
    "name": "ipython",
    "version": 3
   },
   "file_extension": ".py",
   "mimetype": "text/x-python",
   "name": "python",
   "nbconvert_exporter": "python",
   "pygments_lexer": "ipython3",
   "version": "3.8.2"
  }
 },
 "nbformat": 4,
 "nbformat_minor": 4
}

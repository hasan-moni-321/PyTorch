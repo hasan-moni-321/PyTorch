{
 "cells": [
  {
   "cell_type": "code",
   "execution_count": 50,
   "metadata": {},
   "outputs": [],
   "source": [
    "import numpy as np\n",
    "import pandas as pd \n",
    "import matplotlib.pyplot as plt \n",
    "import seaborn as sns\n",
    "\n",
    "from sklearn.metrics import precision_score, recall_score, accuracy_score, classification_report, confusion_matrix\n",
    "from sklearn.model_selection import train_test_split\n",
    "from sklearn.preprocessing import LabelEncoder\n",
    "\n",
    "import torch \n",
    "import torch.nn as nn\n",
    "import torch.nn.functional as F\n"
   ]
  },
  {
   "cell_type": "markdown",
   "metadata": {},
   "source": [
    "### Loading dataset"
   ]
  },
  {
   "cell_type": "code",
   "execution_count": 24,
   "metadata": {},
   "outputs": [],
   "source": [
    "dataset = pd.read_csv(\"/home/hasan/Desktop/irish_classification_torch/iris.csv\")\n"
   ]
  },
  {
   "cell_type": "markdown",
   "metadata": {},
   "source": [
    "### Encoding species column"
   ]
  },
  {
   "cell_type": "code",
   "execution_count": 25,
   "metadata": {},
   "outputs": [],
   "source": [
    "le = LabelEncoder()\n",
    "dataset['species'] = le.fit_transform(dataset[\"species\"])"
   ]
  },
  {
   "cell_type": "markdown",
   "metadata": {},
   "source": [
    "### Shuffling dataset"
   ]
  },
  {
   "cell_type": "code",
   "execution_count": 26,
   "metadata": {},
   "outputs": [
    {
     "name": "stdout",
     "output_type": "stream",
     "text": [
      "   sepal_length  sepal_width  petal_length  petal_width  species\n",
      "0           5.6          3.0           4.5          1.5        1\n",
      "1           7.6          3.0           6.6          2.1        2\n",
      "2           5.8          2.7           5.1          1.9        2\n",
      "3           6.5          3.2           5.1          2.0        2\n",
      "4           6.4          3.2           5.3          2.3        2\n"
     ]
    }
   ],
   "source": [
    "dataset = dataset.sample(frac=1).reset_index(drop=True)\n",
    "print(dataset.head())"
   ]
  },
  {
   "cell_type": "markdown",
   "metadata": {},
   "source": [
    "### Dividing dataset"
   ]
  },
  {
   "cell_type": "code",
   "execution_count": 27,
   "metadata": {},
   "outputs": [],
   "source": [
    "Xtrain, xtest, Ytrain, ytest  = train_test_split(dataset[dataset.columns[:4]].values,\n",
    "                                                dataset.species.values,\n",
    "                                                test_size=0.2\n",
    "                                                )"
   ]
  },
  {
   "cell_type": "code",
   "execution_count": 28,
   "metadata": {},
   "outputs": [
    {
     "data": {
      "text/plain": [
       "((120, 4), (30, 4), (120,), (30,))"
      ]
     },
     "execution_count": 28,
     "metadata": {},
     "output_type": "execute_result"
    }
   ],
   "source": [
    "Xtrain.shape, xtest.shape, Ytrain.shape, ytest.shape"
   ]
  },
  {
   "cell_type": "markdown",
   "metadata": {},
   "source": [
    "### Converting to tensor"
   ]
  },
  {
   "cell_type": "code",
   "execution_count": 29,
   "metadata": {},
   "outputs": [],
   "source": [
    "Xtrain = torch.FloatTensor(Xtrain)\n",
    "xtest = torch.FloatTensor(xtest)\n",
    "Ytrain = torch.LongTensor(Ytrain)\n",
    "ytest = torch.LongTensor(ytest)"
   ]
  },
  {
   "cell_type": "markdown",
   "metadata": {},
   "source": [
    "### Defining Model"
   ]
  },
  {
   "cell_type": "code",
   "execution_count": 30,
   "metadata": {},
   "outputs": [],
   "source": [
    "class Model(nn.Module):\n",
    "    def __init__(self, input_features=4, hidden_layer1=25, hidden_layer2=30, output_features=3):\n",
    "        super().__init__()\n",
    "        self.fc1 = nn.Linear(input_features,hidden_layer1)                  \n",
    "        self.fc2 = nn.Linear(hidden_layer1, hidden_layer2)                  \n",
    "        self.out = nn.Linear(hidden_layer2, output_features)      \n",
    "        \n",
    "    def forward(self, x):\n",
    "        x = F.relu(self.fc1(x))\n",
    "        x = F.relu(self.fc2(x))\n",
    "        x = self.out(x)\n",
    "        return x\n"
   ]
  },
  {
   "cell_type": "code",
   "execution_count": null,
   "metadata": {},
   "outputs": [],
   "source": []
  },
  {
   "cell_type": "markdown",
   "metadata": {},
   "source": [
    "### Calling Model"
   ]
  },
  {
   "cell_type": "code",
   "execution_count": null,
   "metadata": {},
   "outputs": [],
   "source": [
    "Model = Model()"
   ]
  },
  {
   "cell_type": "code",
   "execution_count": null,
   "metadata": {},
   "outputs": [],
   "source": []
  },
  {
   "cell_type": "markdown",
   "metadata": {},
   "source": [
    "### Defining optimizer and criterion"
   ]
  },
  {
   "cell_type": "code",
   "execution_count": 31,
   "metadata": {},
   "outputs": [],
   "source": [
    "#optimizer = torch.optim.SGD(Model.parameters(), lr=0.01)\n",
    "optimizer = torch.optim.Adam(Model.parameters(), lr=0.01)\n",
    "#loss = nn.CrossEntropyLoss()\n",
    "criterion = nn.CrossEntropyLoss()"
   ]
  },
  {
   "cell_type": "code",
   "execution_count": null,
   "metadata": {},
   "outputs": [],
   "source": []
  },
  {
   "cell_type": "markdown",
   "metadata": {},
   "source": [
    "### Training Model"
   ]
  },
  {
   "cell_type": "code",
   "execution_count": 32,
   "metadata": {},
   "outputs": [
    {
     "name": "stdout",
     "output_type": "stream",
     "text": [
      "epoch:  0  loss: 1.13666463\n",
      "epoch:  1  loss: 1.04953051\n",
      "epoch:  2  loss: 1.00145674\n",
      "epoch:  3  loss: 0.96830177\n",
      "epoch:  4  loss: 0.93579292\n",
      "epoch:  5  loss: 0.89369702\n",
      "epoch:  6  loss: 0.84241271\n",
      "epoch:  7  loss: 0.78900462\n",
      "epoch:  8  loss: 0.73820174\n",
      "epoch:  9  loss: 0.68712795\n",
      "epoch: 10  loss: 0.63376135\n",
      "epoch: 11  loss: 0.58415520\n",
      "epoch: 12  loss: 0.54539132\n",
      "epoch: 13  loss: 0.51118338\n",
      "epoch: 14  loss: 0.47912493\n",
      "epoch: 15  loss: 0.45019192\n",
      "epoch: 16  loss: 0.42618260\n",
      "epoch: 17  loss: 0.40517011\n",
      "epoch: 18  loss: 0.38454670\n",
      "epoch: 19  loss: 0.36425719\n",
      "epoch: 20  loss: 0.34333977\n",
      "epoch: 21  loss: 0.32238299\n",
      "epoch: 22  loss: 0.30203864\n",
      "epoch: 23  loss: 0.28263462\n",
      "epoch: 24  loss: 0.26291859\n",
      "epoch: 25  loss: 0.24358128\n",
      "epoch: 26  loss: 0.22440763\n",
      "epoch: 27  loss: 0.20606475\n",
      "epoch: 28  loss: 0.18846692\n",
      "epoch: 29  loss: 0.17268090\n",
      "epoch: 30  loss: 0.15827407\n",
      "epoch: 31  loss: 0.14549656\n",
      "epoch: 32  loss: 0.13397773\n",
      "epoch: 33  loss: 0.12407038\n",
      "epoch: 34  loss: 0.11530599\n",
      "epoch: 35  loss: 0.10781588\n",
      "epoch: 36  loss: 0.10148812\n",
      "epoch: 37  loss: 0.09594773\n",
      "epoch: 38  loss: 0.09132209\n",
      "epoch: 39  loss: 0.08742008\n",
      "epoch: 40  loss: 0.08399146\n",
      "epoch: 41  loss: 0.08110927\n",
      "epoch: 42  loss: 0.07868886\n",
      "epoch: 43  loss: 0.07653935\n",
      "epoch: 44  loss: 0.07465012\n",
      "epoch: 45  loss: 0.07305145\n",
      "epoch: 46  loss: 0.07165982\n",
      "epoch: 47  loss: 0.07038440\n",
      "epoch: 48  loss: 0.06922694\n",
      "epoch: 49  loss: 0.06821784\n",
      "epoch: 50  loss: 0.06733631\n",
      "epoch: 51  loss: 0.06653521\n",
      "epoch: 52  loss: 0.06578758\n",
      "epoch: 53  loss: 0.06509905\n",
      "epoch: 54  loss: 0.06447797\n",
      "epoch: 55  loss: 0.06392313\n",
      "epoch: 56  loss: 0.06341899\n",
      "epoch: 57  loss: 0.06295294\n",
      "epoch: 58  loss: 0.06251512\n",
      "epoch: 59  loss: 0.06211024\n",
      "epoch: 60  loss: 0.06173210\n",
      "epoch: 61  loss: 0.06136235\n",
      "epoch: 62  loss: 0.06100971\n",
      "epoch: 63  loss: 0.06067593\n",
      "epoch: 64  loss: 0.06036318\n",
      "epoch: 65  loss: 0.06006449\n",
      "epoch: 66  loss: 0.05977699\n",
      "epoch: 67  loss: 0.05950025\n",
      "epoch: 68  loss: 0.05923707\n",
      "epoch: 69  loss: 0.05898987\n",
      "epoch: 70  loss: 0.05876057\n",
      "epoch: 71  loss: 0.05855497\n",
      "epoch: 72  loss: 0.05839468\n",
      "epoch: 73  loss: 0.05830076\n",
      "epoch: 74  loss: 0.05836212\n",
      "epoch: 75  loss: 0.05850735\n",
      "epoch: 76  loss: 0.05881023\n",
      "epoch: 77  loss: 0.05839948\n",
      "epoch: 78  loss: 0.05766336\n",
      "epoch: 79  loss: 0.05696367\n",
      "epoch: 80  loss: 0.05699845\n",
      "epoch: 81  loss: 0.05734912\n",
      "epoch: 82  loss: 0.05710562\n",
      "epoch: 83  loss: 0.05653578\n",
      "epoch: 84  loss: 0.05623372\n",
      "epoch: 85  loss: 0.05638582\n",
      "epoch: 86  loss: 0.05646147\n",
      "epoch: 87  loss: 0.05606380\n",
      "epoch: 88  loss: 0.05572286\n",
      "epoch: 89  loss: 0.05573177\n",
      "epoch: 90  loss: 0.05578154\n",
      "epoch: 91  loss: 0.05559565\n",
      "epoch: 92  loss: 0.05529101\n",
      "epoch: 93  loss: 0.05519713\n",
      "epoch: 94  loss: 0.05523530\n",
      "epoch: 95  loss: 0.05512612\n",
      "epoch: 96  loss: 0.05490043\n",
      "epoch: 97  loss: 0.05474706\n",
      "epoch: 98  loss: 0.05472507\n",
      "epoch: 99  loss: 0.05468865\n",
      "epoch: 100  loss: 0.05453344\n",
      "epoch: 101  loss: 0.05436540\n",
      "epoch: 102  loss: 0.05427980\n",
      "epoch: 103  loss: 0.05424328\n",
      "epoch: 104  loss: 0.05416771\n",
      "epoch: 105  loss: 0.05403040\n",
      "epoch: 106  loss: 0.05390358\n",
      "epoch: 107  loss: 0.05382789\n",
      "epoch: 108  loss: 0.05377474\n",
      "epoch: 109  loss: 0.05369790\n",
      "epoch: 110  loss: 0.05358633\n",
      "epoch: 111  loss: 0.05347620\n",
      "epoch: 112  loss: 0.05339273\n",
      "epoch: 113  loss: 0.05332921\n",
      "epoch: 114  loss: 0.05326146\n",
      "epoch: 115  loss: 0.05317413\n",
      "epoch: 116  loss: 0.05307710\n",
      "epoch: 117  loss: 0.05298586\n",
      "epoch: 118  loss: 0.05290867\n",
      "epoch: 119  loss: 0.05284072\n",
      "epoch: 120  loss: 0.05277171\n",
      "epoch: 121  loss: 0.05269577\n",
      "epoch: 122  loss: 0.05261249\n",
      "epoch: 123  loss: 0.05252820\n",
      "epoch: 124  loss: 0.05244768\n",
      "epoch: 125  loss: 0.05237309\n",
      "epoch: 126  loss: 0.05230308\n",
      "epoch: 127  loss: 0.05223468\n",
      "epoch: 128  loss: 0.05216578\n",
      "epoch: 129  loss: 0.05209484\n",
      "epoch: 130  loss: 0.05202223\n",
      "epoch: 131  loss: 0.05194841\n",
      "epoch: 132  loss: 0.05187465\n",
      "epoch: 133  loss: 0.05180132\n",
      "epoch: 134  loss: 0.05172895\n",
      "epoch: 135  loss: 0.05165762\n",
      "epoch: 136  loss: 0.05158728\n",
      "epoch: 137  loss: 0.05151778\n",
      "epoch: 138  loss: 0.05144900\n",
      "epoch: 139  loss: 0.05138087\n",
      "epoch: 140  loss: 0.05131317\n",
      "epoch: 141  loss: 0.05124592\n",
      "epoch: 142  loss: 0.05117912\n",
      "epoch: 143  loss: 0.05111276\n",
      "epoch: 144  loss: 0.05104687\n",
      "epoch: 145  loss: 0.05098156\n",
      "epoch: 146  loss: 0.05091706\n",
      "epoch: 147  loss: 0.05085397\n",
      "epoch: 148  loss: 0.05079371\n",
      "epoch: 149  loss: 0.05073972\n",
      "epoch: 150  loss: 0.05069973\n",
      "epoch: 151  loss: 0.05069653\n",
      "epoch: 152  loss: 0.05077629\n",
      "epoch: 153  loss: 0.05109124\n",
      "epoch: 154  loss: 0.05181188\n",
      "epoch: 155  loss: 0.05359194\n",
      "epoch: 156  loss: 0.05476327\n",
      "epoch: 157  loss: 0.05514578\n",
      "epoch: 158  loss: 0.05127303\n",
      "epoch: 159  loss: 0.05041005\n",
      "epoch: 160  loss: 0.05273028\n",
      "epoch: 161  loss: 0.05221609\n",
      "epoch: 162  loss: 0.05026271\n",
      "epoch: 163  loss: 0.05045708\n",
      "epoch: 164  loss: 0.05157694\n",
      "epoch: 165  loss: 0.05085590\n",
      "epoch: 166  loss: 0.04983192\n",
      "epoch: 167  loss: 0.05077686\n",
      "epoch: 168  loss: 0.05101470\n",
      "epoch: 169  loss: 0.04978111\n",
      "epoch: 170  loss: 0.05016062\n",
      "epoch: 171  loss: 0.05076129\n",
      "epoch: 172  loss: 0.04979068\n",
      "epoch: 173  loss: 0.04974012\n",
      "epoch: 174  loss: 0.05034120\n",
      "epoch: 175  loss: 0.04974754\n",
      "epoch: 176  loss: 0.04946508\n",
      "epoch: 177  loss: 0.04991072\n",
      "epoch: 178  loss: 0.04965338\n",
      "epoch: 179  loss: 0.04929576\n",
      "epoch: 180  loss: 0.04953698\n",
      "epoch: 181  loss: 0.04951899\n",
      "epoch: 182  loss: 0.04920100\n",
      "epoch: 183  loss: 0.04924439\n",
      "epoch: 184  loss: 0.04934799\n",
      "epoch: 185  loss: 0.04914407\n",
      "epoch: 186  loss: 0.04903948\n",
      "epoch: 187  loss: 0.04914921\n",
      "epoch: 188  loss: 0.04907985\n",
      "epoch: 189  loss: 0.04891159\n",
      "epoch: 190  loss: 0.04894517\n",
      "epoch: 191  loss: 0.04897057\n",
      "epoch: 192  loss: 0.04883030\n",
      "epoch: 193  loss: 0.04877030\n",
      "epoch: 194  loss: 0.04881139\n",
      "epoch: 195  loss: 0.04875170\n",
      "epoch: 196  loss: 0.04864914\n",
      "epoch: 197  loss: 0.04863809\n",
      "epoch: 198  loss: 0.04863894\n",
      "epoch: 199  loss: 0.04856623\n"
     ]
    }
   ],
   "source": [
    "epochs = 200\n",
    "losses = []\n",
    "for epoch in range(epochs):\n",
    "    out = Model.forward(Xtrain)\n",
    "    loss = criterion(out, Ytrain)\n",
    "    losses.append(loss)\n",
    "    #print(\"Epoch {epoch:2}, Loss = {loss.item():10.8f}\")\n",
    "    \n",
    "    print(f'epoch: {epoch:2}  loss: {loss.item():10.8f}')\n",
    "\n",
    "    optimizer.zero_grad()\n",
    "    loss.backward()\n",
    "    optimizer.step()"
   ]
  },
  {
   "cell_type": "code",
   "execution_count": null,
   "metadata": {},
   "outputs": [],
   "source": []
  },
  {
   "cell_type": "markdown",
   "metadata": {},
   "source": [
    "### Loss graph"
   ]
  },
  {
   "cell_type": "code",
   "execution_count": 33,
   "metadata": {},
   "outputs": [
    {
     "data": {
      "text/plain": [
       "Text(0.5, 0, 'epoch')"
      ]
     },
     "execution_count": 33,
     "metadata": {},
     "output_type": "execute_result"
    },
    {
     "data": {
      "image/png": "[encoded data removed]",
      "text/plain": [
       "<Figure size 432x288 with 1 Axes>"
      ]
     },
     "metadata": {
      "needs_background": "light"
     },
     "output_type": "display_data"
    }
   ],
   "source": [
    "plt.plot(range(epochs), losses)\n",
    "plt.ylabel(\"Loss\")\n",
    "plt.xlabel(\"epoch\")"
   ]
  },
  {
   "cell_type": "code",
   "execution_count": null,
   "metadata": {},
   "outputs": [],
   "source": []
  },
  {
   "cell_type": "code",
   "execution_count": null,
   "metadata": {},
   "outputs": [],
   "source": []
  },
  {
   "cell_type": "code",
   "execution_count": null,
   "metadata": {},
   "outputs": [],
   "source": []
  },
  {
   "cell_type": "markdown",
   "metadata": {},
   "source": [
    "### Predicting "
   ]
  },
  {
   "cell_type": "code",
   "execution_count": 38,
   "metadata": {},
   "outputs": [],
   "source": [
    "predict_out = Model(xtest)\n",
    "_, predict_y = torch.max(predict_out, 1)"
   ]
  },
  {
   "cell_type": "code",
   "execution_count": 39,
   "metadata": {},
   "outputs": [
    {
     "data": {
      "text/plain": [
       "tensor([0, 0, 0, 0, 2, 2, 0, 1, 2, 0, 1, 1, 2, 2, 2, 1, 1, 2, 2, 1, 1, 1, 1, 0,\n",
       "        1, 2, 0, 2, 0, 0])"
      ]
     },
     "execution_count": 39,
     "metadata": {},
     "output_type": "execute_result"
    }
   ],
   "source": [
    "predict_y"
   ]
  },
  {
   "cell_type": "code",
   "execution_count": null,
   "metadata": {},
   "outputs": [],
   "source": []
  },
  {
   "cell_type": "code",
   "execution_count": 40,
   "metadata": {},
   "outputs": [
    {
     "name": "stdout",
     "output_type": "stream",
     "text": [
      "prediction accuracy : 1.0\n"
     ]
    }
   ],
   "source": [
    "print('prediction accuracy :', accuracy_score(ytest.data, predict_y.data))"
   ]
  },
  {
   "cell_type": "code",
   "execution_count": null,
   "metadata": {},
   "outputs": [],
   "source": []
  },
  {
   "cell_type": "markdown",
   "metadata": {},
   "source": [
    "### Classification Report"
   ]
  },
  {
   "cell_type": "code",
   "execution_count": 46,
   "metadata": {},
   "outputs": [
    {
     "name": "stdout",
     "output_type": "stream",
     "text": [
      "              precision    recall  f1-score   support\n",
      "\n",
      "           0       1.00      1.00      1.00        10\n",
      "           1       1.00      1.00      1.00        10\n",
      "           2       1.00      1.00      1.00        10\n",
      "\n",
      "    accuracy                           1.00        30\n",
      "   macro avg       1.00      1.00      1.00        30\n",
      "weighted avg       1.00      1.00      1.00        30\n",
      "\n"
     ]
    }
   ],
   "source": [
    "print(classification_report(ytest,predict_y))"
   ]
  },
  {
   "cell_type": "code",
   "execution_count": null,
   "metadata": {},
   "outputs": [],
   "source": []
  },
  {
   "cell_type": "markdown",
   "metadata": {},
   "source": [
    "### Confusion Matrix"
   ]
  },
  {
   "cell_type": "code",
   "execution_count": 52,
   "metadata": {},
   "outputs": [
    {
     "data": {
      "text/plain": [
       "Text(91.68, 0.5, 'predicted label')"
      ]
     },
     "execution_count": 52,
     "metadata": {},
     "output_type": "execute_result"
    },
    {
     "data": {
      "image/png": "[encoded data removed]",
      "text/plain": [
       "<Figure size 432x288 with 1 Axes>"
      ]
     },
     "metadata": {
      "needs_background": "light"
     },
     "output_type": "display_data"
    }
   ],
   "source": [
    "mat = confusion_matrix(ytest, predict_y)\n",
    "sns.heatmap(mat.T, square=True, annot=True, fmt='d', cbar=False)\n",
    "plt.xlabel('true label')\n",
    "plt.ylabel('predicted label')\n",
    "\n"
   ]
  },
  {
   "cell_type": "code",
   "execution_count": null,
   "metadata": {},
   "outputs": [],
   "source": []
  },
  {
   "cell_type": "code",
   "execution_count": 42,
   "metadata": {},
   "outputs": [
    {
     "name": "stdout",
     "output_type": "stream",
     "text": [
      "macro precision 1.0\n",
      "micro precision 1.0\n",
      "macro recall 1.0\n",
      "micro recall 1.0\n"
     ]
    }
   ],
   "source": [
    "print('macro precision', precision_score(ytest.data, predict_y.data, average='macro'))\n",
    "print('micro precision', precision_score(ytest.data, predict_y.data, average='micro'))\n",
    "print('macro recall', recall_score(ytest.data, predict_y.data, average='macro'))\n",
    "print('micro recall', recall_score(ytest.data, predict_y.data, average='micro'))"
   ]
  },
  {
   "cell_type": "code",
   "execution_count": null,
   "metadata": {},
   "outputs": [],
   "source": []
  },
  {
   "cell_type": "code",
   "execution_count": null,
   "metadata": {},
   "outputs": [],
   "source": []
  },
  {
   "cell_type": "code",
   "execution_count": null,
   "metadata": {},
   "outputs": [],
   "source": []
  },
  {
   "cell_type": "markdown",
   "metadata": {},
   "source": [
    "### Predicting different way"
   ]
  },
  {
   "cell_type": "code",
   "execution_count": 35,
   "metadata": {},
   "outputs": [],
   "source": [
    "preds = []\n",
    "with torch.no_grad():\n",
    "    for val in xtest:\n",
    "        y_hat = Model.forward(val)\n",
    "        preds.append(y_hat.argmax().item())"
   ]
  },
  {
   "cell_type": "code",
   "execution_count": 36,
   "metadata": {},
   "outputs": [
    {
     "data": {
      "text/plain": [
       "[0,\n",
       " 0,\n",
       " 0,\n",
       " 0,\n",
       " 2,\n",
       " 2,\n",
       " 0,\n",
       " 1,\n",
       " 2,\n",
       " 0,\n",
       " 1,\n",
       " 1,\n",
       " 2,\n",
       " 2,\n",
       " 2,\n",
       " 1,\n",
       " 1,\n",
       " 2,\n",
       " 2,\n",
       " 1,\n",
       " 1,\n",
       " 1,\n",
       " 1,\n",
       " 0,\n",
       " 1,\n",
       " 2,\n",
       " 0,\n",
       " 2,\n",
       " 0,\n",
       " 0]"
      ]
     },
     "execution_count": 36,
     "metadata": {},
     "output_type": "execute_result"
    }
   ],
   "source": [
    "preds"
   ]
  },
  {
   "cell_type": "code",
   "execution_count": null,
   "metadata": {},
   "outputs": [],
   "source": []
  }
 ],
 "metadata": {
  "kernelspec": {
   "display_name": "Python 3",
   "language": "python",
   "name": "python3"
  },
  "language_info": {
   "codemirror_mode": {
    "name": "ipython",
    "version": 3
   },
   "file_extension": ".py",
   "mimetype": "text/x-python",
   "name": "python",
   "nbconvert_exporter": "python",
   "pygments_lexer": "ipython3",
   "version": "3.8.3"
  }
 },
 "nbformat": 4,
 "nbformat_minor": 4
}
